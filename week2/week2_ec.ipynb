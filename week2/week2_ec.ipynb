{
 "cells": [
  {
   "cell_type": "markdown",
   "id": "e83f20cb-ed44-4e77-821a-050dc2ab3c28",
   "metadata": {},
   "source": [
    "# Week 2 Data Exploration \n",
    "## Emily Cadena \n",
    "Add Purpose of Assignment and Description "
   ]
  },
  {
   "cell_type": "code",
   "execution_count": 1,
   "id": "7c738f1d-4f4d-4366-8783-c391e8848a60",
   "metadata": {},
   "outputs": [
    {
     "name": "stdout",
     "output_type": "stream",
     "text": [
      "upload to GitHub\n"
     ]
    }
   ],
   "source": [
    "#justv an example \n",
    "print('upload to GitHub')"
   ]
  },
  {
   "cell_type": "code",
   "execution_count": null,
   "id": "9ec9e79a-6bb8-41f3-9e31-68acf43235a9",
   "metadata": {},
   "outputs": [],
   "source": []
  }
 ],
 "metadata": {
  "kernelspec": {
   "display_name": "Python 3 (ipykernel)",
   "language": "python",
   "name": "python3"
  },
  "language_info": {
   "codemirror_mode": {
    "name": "ipython",
    "version": 3
   },
   "file_extension": ".py",
   "mimetype": "text/x-python",
   "name": "python",
   "nbconvert_exporter": "python",
   "pygments_lexer": "ipython3",
   "version": "3.11.9"
  }
 },
 "nbformat": 4,
 "nbformat_minor": 5
}
