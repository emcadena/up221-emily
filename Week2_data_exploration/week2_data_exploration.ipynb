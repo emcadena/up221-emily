{
 "cells": [
  {
   "cell_type": "markdown",
   "id": "e636cbe1-4422-4965-a3e1-292871f92569",
   "metadata": {},
   "source": [
    "# Week 2 Data exploration \n",
    "## Emily Cadena\n",
    "Insert Purpose of assignment/Describe Data Sources "
   ]
  },
  {
   "cell_type": "code",
   "execution_count": 2,
   "id": "4a964957-1e83-427d-ad49-49f84f6cc48c",
   "metadata": {},
   "outputs": [
    {
     "name": "stdout",
     "output_type": "stream",
     "text": [
      "upload to GitHub\n"
     ]
    }
   ],
   "source": [
    "print('upload to GitHub')"
   ]
  }
 ],
 "metadata": {
  "kernelspec": {
   "display_name": "Python 3 (ipykernel)",
   "language": "python",
   "name": "python3"
  },
  "language_info": {
   "codemirror_mode": {
    "name": "ipython",
    "version": 3
   },
   "file_extension": ".py",
   "mimetype": "text/x-python",
   "name": "python",
   "nbconvert_exporter": "python",
   "pygments_lexer": "ipython3",
   "version": "3.11.9"
  }
 },
 "nbformat": 4,
 "nbformat_minor": 5
}
